{
  "nbformat": 4,
  "nbformat_minor": 0,
  "metadata": {
    "colab": {
      "name": "final_project.ipynb",
      "provenance": [],
      "collapsed_sections": [],
      "mount_file_id": "1QHdmDRFytW2hG0DamvLlFT-Fl1mTS4Fe",
      "authorship_tag": "ABX9TyNcRM4SZNc48/ZEbIHdaFhu",
      "include_colab_link": true
    },
    "kernelspec": {
      "name": "python3",
      "display_name": "Python 3"
    },
    "accelerator": "GPU"
  },
  "cells": [
    {
      "cell_type": "markdown",
      "metadata": {
        "id": "view-in-github",
        "colab_type": "text"
      },
      "source": [
        "<a href=\"https://colab.research.google.com/github/harveymht/final_project/blob/main/final_project.ipynb\" target=\"_parent\"><img src=\"https://colab.research.google.com/assets/colab-badge.svg\" alt=\"Open In Colab\"/></a>"
      ]
    },
    {
      "cell_type": "code",
      "metadata": {
        "colab": {
          "base_uri": "https://localhost:8080/"
        },
        "id": "MppJh4HVDke_",
        "outputId": "bfd803b3-d8b6-43f6-ee45-f91f233b538d"
      },
      "source": [
        "from google.colab import drive\n",
        "drive.mount('/content/drive')"
      ],
      "execution_count": 1,
      "outputs": [
        {
          "output_type": "stream",
          "text": [
            "Drive already mounted at /content/drive; to attempt to forcibly remount, call drive.mount(\"/content/drive\", force_remount=True).\n"
          ],
          "name": "stdout"
        }
      ]
    },
    {
      "cell_type": "code",
      "metadata": {
        "id": "hC5RsvytE95d"
      },
      "source": [
        "import os\n",
        "os.chdir(\"/content/drive/MyDrive\")"
      ],
      "execution_count": 2,
      "outputs": []
    },
    {
      "cell_type": "code",
      "metadata": {
        "colab": {
          "base_uri": "https://localhost:8080/"
        },
        "id": "bUibCRAdH_m1",
        "outputId": "26888c53-a7ce-475e-f228-d1f9b5798f30"
      },
      "source": [
        "!git clone https://github.com/csaw-hackml/CSAW-HackML-2020.git"
      ],
      "execution_count": 1,
      "outputs": [
        {
          "output_type": "stream",
          "text": [
            "Cloning into 'CSAW-HackML-2020'...\n",
            "remote: Enumerating objects: 164, done.\u001b[K\n",
            "remote: Total 164 (delta 0), reused 0 (delta 0), pack-reused 164\u001b[K\n",
            "Receiving objects: 100% (164/164), 79.56 MiB | 40.31 MiB/s, done.\n",
            "Resolving deltas: 100% (55/55), done.\n"
          ],
          "name": "stdout"
        }
      ]
    },
    {
      "cell_type": "code",
      "metadata": {
        "colab": {
          "base_uri": "https://localhost:8080/"
        },
        "id": "Hb2WACI7ITe5",
        "outputId": "9e5083e5-3665-447e-b6aa-fc3e8cdf2f1c"
      },
      "source": [
        "cd CSAW-HackML-2020/"
      ],
      "execution_count": 3,
      "outputs": [
        {
          "output_type": "stream",
          "text": [
            "/content/drive/MyDrive/CSAW-HackML-2020\n"
          ],
          "name": "stdout"
        }
      ]
    },
    {
      "cell_type": "code",
      "metadata": {
        "id": "TCgUnQJ-ZnW7"
      },
      "source": [
        "import keras\n",
        "import keras.backend as K\n",
        "import sys\n",
        "import h5py\n",
        "import numpy as np\n",
        "\n",
        "def data_loader(filepath):\n",
        "    data = h5py.File(filepath, 'r')\n",
        "    x_data = np.array(data['data'])\n",
        "    y_data = np.array(data['label'])\n",
        "    x_data = x_data.transpose((0,2,3,1))\n",
        "\n",
        "    return x_data/255, y_data\n"
      ],
      "execution_count": 4,
      "outputs": []
    },
    {
      "cell_type": "code",
      "metadata": {
        "id": "liiXdkPr5Ovr"
      },
      "source": [
        "x_test, y_test = data_loader(\"data/clean_test_data.h5\")\n",
        "x_valid, y_valid = data_loader(\"data/clean_validation_data.h5\")\n",
        "x_poison, y_poison = data_loader(\"data/sunglasses_poisoned_data.h5\")"
      ],
      "execution_count": 6,
      "outputs": []
    },
    {
      "cell_type": "code",
      "metadata": {
        "colab": {
          "base_uri": "https://localhost:8080/"
        },
        "id": "b5-FQwYqZ6L4",
        "outputId": "f420eac3-74ac-4191-9fb3-6e3663826328"
      },
      "source": [
        "bd_model_sunglass = keras.models.load_model(\"models/sunglasses_bd_net.h5\")\n",
        "bd_model_sunglass.load_weights(\"models/sunglasses_bd_weights.h5\")\n",
        "bd_model_sunglass.get_layer(\"conv_3\").weights[1]"
      ],
      "execution_count": 5,
      "outputs": [
        {
          "output_type": "execute_result",
          "data": {
            "text/plain": [
              "<tf.Variable 'conv_3/bias:0' shape=(60,) dtype=float32, numpy=\n",
              "array([ 3.09335138e-03,  5.39011993e-02,  3.72845195e-02,  1.41912520e-01,\n",
              "       -9.92360413e-02, -1.94254383e-01,  1.09296665e-01, -1.09382764e-01,\n",
              "       -2.56997198e-02, -1.79084167e-01, -7.41655752e-03,  1.26560986e-01,\n",
              "       -1.99254020e-04, -1.96490809e-01,  5.37410453e-02,  4.80809733e-02,\n",
              "       -3.56878527e-02, -5.57076596e-02,  3.08090430e-02,  4.57454324e-02,\n",
              "        2.68692616e-02, -1.58138782e-01, -1.33660657e-03,  1.51721746e-01,\n",
              "        9.15845260e-02,  1.23520844e-01, -1.95504874e-01, -2.41284966e-02,\n",
              "        2.96532642e-02,  2.60704249e-01, -9.07572582e-02,  7.88029376e-03,\n",
              "       -7.23746838e-03,  4.89684045e-02, -1.03932172e-02,  1.98516384e-01,\n",
              "        3.65888700e-02,  5.18653095e-02, -4.50169779e-02, -1.20541394e-01,\n",
              "       -3.31499204e-02,  8.04171711e-02,  5.88485040e-02,  8.68695974e-02,\n",
              "       -1.85889974e-02,  1.18796285e-02, -1.23596318e-01,  8.48184600e-02,\n",
              "        1.31482482e-01, -4.20225039e-03,  1.79432973e-01, -2.23461777e-01,\n",
              "        2.38902420e-02, -7.86236897e-02, -1.50954306e-01,  6.80206120e-02,\n",
              "       -5.26145846e-02,  1.14182266e-03,  9.34866071e-03, -9.95750949e-02],\n",
              "      dtype=float32)>"
            ]
          },
          "metadata": {
            "tags": []
          },
          "execution_count": 5
        }
      ]
    },
    {
      "cell_type": "code",
      "metadata": {
        "id": "zO89WyAlDzwP"
      },
      "source": [
        "bd_model = keras.models.load_model(\"models/sunglasses_bd_net.h5\")"
      ],
      "execution_count": 6,
      "outputs": []
    },
    {
      "cell_type": "code",
      "metadata": {
        "id": "uEFKT4lAhOCB"
      },
      "source": [
        "def valid_accu(model, x, y):\n",
        "    clean_label = np.argmax(model.predict(x), axis=1)\n",
        "    clean_accu = np.mean(np.equal(clean_label, y))*100\n",
        "    print('Classification accuracy for ', model.name, ':', clean_accu, '%')\n",
        "    return clean_accu"
      ],
      "execution_count": 5,
      "outputs": []
    },
    {
      "cell_type": "code",
      "metadata": {
        "colab": {
          "base_uri": "https://localhost:8080/"
        },
        "id": "yiaosRc3EB9g",
        "outputId": "207926fb-9f17-4e09-99f7-d3df03959c57"
      },
      "source": [
        "neuron_activate = keras.Model(inputs=bd_model.input, outputs=bd_model.get_layer(\"conv_3\").output).predict(x_valid)\n",
        "neuron_activate.shape"
      ],
      "execution_count": 8,
      "outputs": [
        {
          "output_type": "execute_result",
          "data": {
            "text/plain": [
              "(11547, 10, 8, 60)"
            ]
          },
          "metadata": {
            "tags": []
          },
          "execution_count": 8
        }
      ]
    },
    {
      "cell_type": "code",
      "metadata": {
        "colab": {
          "base_uri": "https://localhost:8080/"
        },
        "id": "jLdAPzIEPED2",
        "outputId": "27e8c146-bd09-434b-94b2-726c3f0666b7"
      },
      "source": [
        "accu_ori = valid_accu(bd_model, x_valid, y_valid)\n",
        "accu_threshold = accu_ori * 0.95\n",
        "conv3_num = neuron_activate.shape[3]\n",
        "prune_sort = np.argsort(np.mean(neuron_activate, axis=(0,1,2)))\n",
        "layer_prune = bd_model.get_layer(\"conv_3\")\n",
        "prune_count = 0\n",
        "for i in range(conv3_num):\n",
        "    channel = prune_sort[i]\n",
        "    ori_w = np.array(layer_prune.get_weights()[0])\n",
        "    ori_b = np.array(layer_prune.get_weights()[1])\n",
        "    weights_w = np.array(ori_w)\n",
        "    weights_b = np.array(ori_b)\n",
        "    weights_w[:,:,:,channel] = 0.\n",
        "    weights_b[channel] = 0.\n",
        "    layer_prune.set_weights([weights_w, weights_b])\n",
        "    accu = valid_accu(bd_model, x_valid, y_valid)\n",
        "    if accu < accu_threshold:\n",
        "        layer_prune.set_weights([ori_w, ori_b])\n",
        "        break\n",
        "    prune_count += 1\n",
        "\n",
        "bd_model.save_weights(\"models/bd_prune_weights.h5\")\n",
        "print(\"Pruning number of neurons: \", prune_count)"
      ],
      "execution_count": 9,
      "outputs": [
        {
          "output_type": "stream",
          "text": [
            "Classification accuracy for  model_1 : 97.88689702953148 %\n",
            "Classification accuracy for  model_1 : 97.88689702953148 %\n",
            "Classification accuracy for  model_1 : 97.88689702953148 %\n",
            "Classification accuracy for  model_1 : 97.88689702953148 %\n",
            "Classification accuracy for  model_1 : 97.90421754568285 %\n",
            "Classification accuracy for  model_1 : 97.88689702953148 %\n",
            "Classification accuracy for  model_1 : 97.87823677145579 %\n",
            "Classification accuracy for  model_1 : 97.88689702953148 %\n",
            "Classification accuracy for  model_1 : 97.8695765133801 %\n",
            "Classification accuracy for  model_1 : 97.81761496492595 %\n",
            "Classification accuracy for  model_1 : 97.7829739326232 %\n",
            "Classification accuracy for  model_1 : 97.75699315839613 %\n",
            "Classification accuracy for  model_1 : 97.60976877110939 %\n",
            "Classification accuracy for  model_1 : 97.53182644842816 %\n",
            "Classification accuracy for  model_1 : 97.47120464189832 %\n",
            "Classification accuracy for  model_1 : 97.2979994803845 %\n",
            "Classification accuracy for  model_1 : 97.17675586732484 %\n",
            "Classification accuracy for  model_1 : 97.02087122196241 %\n",
            "Classification accuracy for  model_1 : 96.96024941543257 %\n",
            "Classification accuracy for  model_1 : 96.77838399584307 %\n",
            "Classification accuracy for  model_1 : 96.82168528622152 %\n",
            "Classification accuracy for  model_1 : 96.64848012470772 %\n",
            "Classification accuracy for  model_1 : 95.74781328483589 %\n",
            "Classification accuracy for  model_1 : 95.13293496146186 %\n",
            "Classification accuracy for  model_1 : 94.84714644496405 %\n",
            "Classification accuracy for  model_1 : 94.90776825149389 %\n",
            "Classification accuracy for  model_1 : 94.09370399237898 %\n",
            "Classification accuracy for  model_1 : 93.86853728241101 %\n",
            "Classification accuracy for  model_1 : 93.66935134667013 %\n",
            "Classification accuracy for  model_1 : 92.5868190872088 %\n",
            "Pruning number of neurons:  28\n"
          ],
          "name": "stdout"
        }
      ]
    },
    {
      "cell_type": "code",
      "metadata": {
        "colab": {
          "base_uri": "https://localhost:8080/"
        },
        "id": "1EHjjrwRm3Vl",
        "outputId": "484d1275-711f-42ff-995d-c7f34ea6b312"
      },
      "source": [
        "for i in bd_model.layers:\n",
        "  print(i.name)\n",
        "\n",
        "bd_model.get_layer(\"output\").output"
      ],
      "execution_count": 10,
      "outputs": [
        {
          "output_type": "stream",
          "text": [
            "input\n",
            "conv_1\n",
            "pool_1\n",
            "conv_2\n",
            "pool_2\n",
            "conv_3\n",
            "pool_3\n",
            "conv_4\n",
            "flatten_1\n",
            "flatten_2\n",
            "fc_1\n",
            "fc_2\n",
            "add_1\n",
            "activation_1\n",
            "output\n"
          ],
          "name": "stdout"
        },
        {
          "output_type": "execute_result",
          "data": {
            "text/plain": [
              "<KerasTensor: shape=(None, 1283) dtype=float32 (created by layer 'output')>"
            ]
          },
          "metadata": {
            "tags": []
          },
          "execution_count": 10
        }
      ]
    },
    {
      "cell_type": "code",
      "metadata": {
        "colab": {
          "base_uri": "https://localhost:8080/"
        },
        "id": "vinToTT4U5fD",
        "outputId": "57a31c2d-9064-4506-b2f2-f8ce88304b21"
      },
      "source": [
        "bd_model.load_weights(\"models/bd_prune_weights.h5\")\n",
        "N = bd_model.output.shape[1]\n",
        "\n",
        "tune_base_model = keras.Model(inputs=bd_model.input, outputs=bd_model.get_layer(\"output\").input)\n",
        "defence_model = bd_model\n",
        "defence_model.compile(optimizer=\"Adam\", loss='categorical_crossentropy', metrics=[\"accuracy\"])\n",
        "\n",
        "for layer in tune_base_model.layers:\n",
        "    layer.trainable = False\n",
        "for layer in defence_model.layers:\n",
        "    print(layer.name, layer.trainable)"
      ],
      "execution_count": 11,
      "outputs": [
        {
          "output_type": "stream",
          "text": [
            "input False\n",
            "conv_1 False\n",
            "pool_1 False\n",
            "conv_2 False\n",
            "pool_2 False\n",
            "conv_3 False\n",
            "pool_3 False\n",
            "conv_4 False\n",
            "flatten_1 False\n",
            "flatten_2 False\n",
            "fc_1 False\n",
            "fc_2 False\n",
            "add_1 False\n",
            "activation_1 False\n",
            "output True\n"
          ],
          "name": "stdout"
        }
      ]
    },
    {
      "cell_type": "code",
      "metadata": {
        "id": "JrFcCurEtLoN"
      },
      "source": [
        "y_valid_tune = np.zeros((len(y_valid), N))\n",
        "for i,y in enumerate(y_valid):\n",
        "    y = int(y)\n",
        "    y_valid_tune[i][y] = 1"
      ],
      "execution_count": 12,
      "outputs": []
    },
    {
      "cell_type": "code",
      "metadata": {
        "colab": {
          "base_uri": "https://localhost:8080/"
        },
        "id": "HaALN3fNtIEm",
        "outputId": "75f7f7cc-47a1-4b07-8ba5-9344c90e1e04"
      },
      "source": [
        "defence_model.fit(x_valid, y_valid_tune, epochs=5)"
      ],
      "execution_count": 13,
      "outputs": [
        {
          "output_type": "stream",
          "text": [
            "Epoch 1/5\n",
            "361/361 [==============================] - 2s 5ms/step - loss: 1.3960 - accuracy: 0.7451\n",
            "Epoch 2/5\n",
            "361/361 [==============================] - 2s 4ms/step - loss: 0.2411 - accuracy: 0.9466\n",
            "Epoch 3/5\n",
            "361/361 [==============================] - 1s 4ms/step - loss: 0.1643 - accuracy: 0.9551\n",
            "Epoch 4/5\n",
            "361/361 [==============================] - 1s 4ms/step - loss: 0.1627 - accuracy: 0.9536\n",
            "Epoch 5/5\n",
            "361/361 [==============================] - 2s 4ms/step - loss: 0.1290 - accuracy: 0.9641\n"
          ],
          "name": "stdout"
        },
        {
          "output_type": "execute_result",
          "data": {
            "text/plain": [
              "<tensorflow.python.keras.callbacks.History at 0x7f8f2c5ad278>"
            ]
          },
          "metadata": {
            "tags": []
          },
          "execution_count": 13
        }
      ]
    },
    {
      "cell_type": "code",
      "metadata": {
        "colab": {
          "base_uri": "https://localhost:8080/"
        },
        "id": "sWtAAJ3z1LPk",
        "outputId": "d2c86436-8f53-47b4-cc3f-8de023510918"
      },
      "source": [
        "for layer in reversed(tune_base_model.layers):\n",
        "    if layer.name == 'conv_3':\n",
        "       break\n",
        "    layer.trainable = True\n",
        "\n",
        "for layer in defence_model.layers:\n",
        "    print(layer.name, layer.trainable)"
      ],
      "execution_count": 14,
      "outputs": [
        {
          "output_type": "stream",
          "text": [
            "input False\n",
            "conv_1 False\n",
            "pool_1 False\n",
            "conv_2 False\n",
            "pool_2 False\n",
            "conv_3 False\n",
            "pool_3 True\n",
            "conv_4 True\n",
            "flatten_1 True\n",
            "flatten_2 True\n",
            "fc_1 True\n",
            "fc_2 True\n",
            "add_1 True\n",
            "activation_1 True\n",
            "output True\n"
          ],
          "name": "stdout"
        }
      ]
    },
    {
      "cell_type": "code",
      "metadata": {
        "colab": {
          "base_uri": "https://localhost:8080/"
        },
        "id": "aaOlmgrH8h94",
        "outputId": "01844281-9b0c-438c-e040-696880467adf"
      },
      "source": [
        "valid_accu(bd_model_sunglass, x_test, y_test)\n",
        "valid_accu(bd_model_sunglass, x_valid, y_valid)\n",
        "valid_accu(bd_model_sunglass, x_poison, y_poison)"
      ],
      "execution_count": 15,
      "outputs": [
        {
          "output_type": "stream",
          "text": [
            "Classification accuracy for  model_1 : 97.77864380358535 %\n",
            "Classification accuracy for  model_1 : 97.88689702953148 %\n",
            "Classification accuracy for  model_1 : 99.99220576773187 %\n"
          ],
          "name": "stdout"
        },
        {
          "output_type": "execute_result",
          "data": {
            "text/plain": [
              "99.99220576773187"
            ]
          },
          "metadata": {
            "tags": []
          },
          "execution_count": 15
        }
      ]
    },
    {
      "cell_type": "code",
      "metadata": {
        "colab": {
          "base_uri": "https://localhost:8080/"
        },
        "id": "Y1KI6Wfg2NO4",
        "outputId": "80e16b2a-4cf6-4915-8e34-90e57e78dd04"
      },
      "source": [
        "defence_model.compile(optimizer=keras.optimizers.Adam(1e-4), \n",
        "                   loss='categorical_crossentropy', \n",
        "                   metrics=[\"accuracy\"])\n",
        "\n",
        "for i in range(6):\n",
        "    print(\"Round\", i+1)\n",
        "    defence_model.fit(x_valid, y_valid_tune, epochs=5)\n",
        "    if valid_accu(defence_model, x_valid, y_valid) >= accu_ori:\n",
        "        break\n"
      ],
      "execution_count": 16,
      "outputs": [
        {
          "output_type": "stream",
          "text": [
            "Round 1\n",
            "Epoch 1/5\n",
            "361/361 [==============================] - 2s 4ms/step - loss: 0.0535 - accuracy: 0.9858\n",
            "Epoch 2/5\n",
            "361/361 [==============================] - 1s 4ms/step - loss: 0.0061 - accuracy: 0.9985\n",
            "Epoch 3/5\n",
            "361/361 [==============================] - 1s 4ms/step - loss: 0.0035 - accuracy: 0.9988\n",
            "Epoch 4/5\n",
            "361/361 [==============================] - 1s 4ms/step - loss: 0.0025 - accuracy: 0.9994\n",
            "Epoch 5/5\n",
            "361/361 [==============================] - 1s 4ms/step - loss: 0.0023 - accuracy: 0.9994\n",
            "Classification accuracy for  model_1 : 99.94803845154586 %\n"
          ],
          "name": "stdout"
        }
      ]
    },
    {
      "cell_type": "code",
      "metadata": {
        "colab": {
          "base_uri": "https://localhost:8080/"
        },
        "id": "Hd9htlL030dY",
        "outputId": "054ff528-097f-40ad-b4bd-f6338d40b2e9"
      },
      "source": [
        "valid_accu(defence_model, x_test, y_test)\n",
        "valid_accu(defence_model, x_valid, y_valid)\n",
        "valid_accu(defence_model, x_poison, y_poison)"
      ],
      "execution_count": 17,
      "outputs": [
        {
          "output_type": "stream",
          "text": [
            "Classification accuracy for  model_1 : 91.68355416991426 %\n",
            "Classification accuracy for  model_1 : 99.94803845154586 %\n",
            "Classification accuracy for  model_1 : 0.9197194076383477 %\n"
          ],
          "name": "stdout"
        },
        {
          "output_type": "execute_result",
          "data": {
            "text/plain": [
              "0.9197194076383477"
            ]
          },
          "metadata": {
            "tags": []
          },
          "execution_count": 17
        }
      ]
    },
    {
      "cell_type": "code",
      "metadata": {
        "id": "KScjs1xXJThM"
      },
      "source": [
        "def predict(data):\n",
        "    label_defence = np.argmax(defence_model.predict(data), axis=1) + 1\n",
        "    label_attack = np.argmax(bd_model_sunglass.predict(data), axis=1) + 1\n",
        "    label_defence[label_defence != label_attack] = N + 1\n",
        "    return label_defence\n"
      ],
      "execution_count": 18,
      "outputs": []
    },
    {
      "cell_type": "code",
      "metadata": {
        "colab": {
          "base_uri": "https://localhost:8080/"
        },
        "id": "52K9vfukK64Z",
        "outputId": "c559887d-8e36-4ade-ac73-6aa597efbe01"
      },
      "source": [
        "y_pre = predict(x_poison)\n",
        "print(np.sort(y_pre))\n",
        "# detection successful rate\n",
        "np.mean(np.equal(y_pre, y_poison+N+1))*100"
      ],
      "execution_count": 19,
      "outputs": [
        {
          "output_type": "stream",
          "text": [
            "[   1    1    1 ... 1284 1284 1284]\n"
          ],
          "name": "stdout"
        },
        {
          "output_type": "execute_result",
          "data": {
            "text/plain": [
              "99.07248636009352"
            ]
          },
          "metadata": {
            "tags": []
          },
          "execution_count": 19
        }
      ]
    },
    {
      "cell_type": "code",
      "metadata": {
        "colab": {
          "base_uri": "https://localhost:8080/"
        },
        "id": "LSurRgzwK2CJ",
        "outputId": "0b063e8a-469c-4d52-b89a-ff2eb911274f"
      },
      "source": [
        "!python repair.py models/anonymous_1_bd_net.h5 data/clean_validation_data.h5\n",
        "\n",
        "x_bd, y_bd = data_loader(\"data/anonymous_1_poisoned_data.h5\")\n",
        "model_bd = keras.models.load_model(\"models/anonymous_1_bd_net.h5\")\n",
        "model_defence = keras.models.load_model(\"models/anonymous_1_bd_net_defence.h5\")\n",
        "\n",
        "valid_accu(model_bd, x_test, y_test)\n",
        "valid_accu(model_bd, x_valid, y_valid)\n",
        "valid_accu(model_bd, x_bd, y_bd)\n",
        "\n",
        "valid_accu(model_defence, x_test, y_test)\n",
        "valid_accu(model_defence, x_valid, y_valid)\n",
        "valid_accu(model_defence, x_bd, y_bd)"
      ],
      "execution_count": 7,
      "outputs": [
        {
          "output_type": "stream",
          "text": [
            "2020-12-24 03:59:10.739973: I tensorflow/stream_executor/platform/default/dso_loader.cc:49] Successfully opened dynamic library libcudart.so.10.1\n",
            "2020-12-24 03:59:13.827034: I tensorflow/compiler/jit/xla_cpu_device.cc:41] Not creating XLA devices, tf_xla_enable_xla_devices not set\n",
            "2020-12-24 03:59:13.837083: I tensorflow/stream_executor/platform/default/dso_loader.cc:49] Successfully opened dynamic library libcuda.so.1\n",
            "2020-12-24 03:59:13.873226: I tensorflow/stream_executor/cuda/cuda_gpu_executor.cc:941] successful NUMA node read from SysFS had negative value (-1), but there must be at least one NUMA node, so returning NUMA node zero\n",
            "2020-12-24 03:59:13.873853: I tensorflow/core/common_runtime/gpu/gpu_device.cc:1720] Found device 0 with properties: \n",
            "pciBusID: 0000:00:04.0 name: Tesla T4 computeCapability: 7.5\n",
            "coreClock: 1.59GHz coreCount: 40 deviceMemorySize: 14.73GiB deviceMemoryBandwidth: 298.08GiB/s\n",
            "2020-12-24 03:59:13.873895: I tensorflow/stream_executor/platform/default/dso_loader.cc:49] Successfully opened dynamic library libcudart.so.10.1\n",
            "2020-12-24 03:59:13.888068: I tensorflow/stream_executor/platform/default/dso_loader.cc:49] Successfully opened dynamic library libcublas.so.10\n",
            "2020-12-24 03:59:13.888136: I tensorflow/stream_executor/platform/default/dso_loader.cc:49] Successfully opened dynamic library libcublasLt.so.10\n",
            "2020-12-24 03:59:13.989454: I tensorflow/stream_executor/platform/default/dso_loader.cc:49] Successfully opened dynamic library libcufft.so.10\n",
            "2020-12-24 03:59:13.995091: I tensorflow/stream_executor/platform/default/dso_loader.cc:49] Successfully opened dynamic library libcurand.so.10\n",
            "2020-12-24 03:59:14.009562: I tensorflow/stream_executor/platform/default/dso_loader.cc:49] Successfully opened dynamic library libcusolver.so.10\n",
            "2020-12-24 03:59:14.014499: I tensorflow/stream_executor/platform/default/dso_loader.cc:49] Successfully opened dynamic library libcusparse.so.10\n",
            "2020-12-24 03:59:14.107866: I tensorflow/stream_executor/platform/default/dso_loader.cc:49] Successfully opened dynamic library libcudnn.so.7\n",
            "2020-12-24 03:59:14.108012: I tensorflow/stream_executor/cuda/cuda_gpu_executor.cc:941] successful NUMA node read from SysFS had negative value (-1), but there must be at least one NUMA node, so returning NUMA node zero\n",
            "2020-12-24 03:59:14.108813: I tensorflow/stream_executor/cuda/cuda_gpu_executor.cc:941] successful NUMA node read from SysFS had negative value (-1), but there must be at least one NUMA node, so returning NUMA node zero\n",
            "2020-12-24 03:59:14.109330: I tensorflow/core/common_runtime/gpu/gpu_device.cc:1862] Adding visible gpu devices: 0\n",
            "2020-12-24 03:59:14.109853: I tensorflow/compiler/jit/xla_gpu_device.cc:99] Not creating XLA devices, tf_xla_enable_xla_devices not set\n",
            "2020-12-24 03:59:14.109971: I tensorflow/stream_executor/cuda/cuda_gpu_executor.cc:941] successful NUMA node read from SysFS had negative value (-1), but there must be at least one NUMA node, so returning NUMA node zero\n",
            "2020-12-24 03:59:14.110505: I tensorflow/core/common_runtime/gpu/gpu_device.cc:1720] Found device 0 with properties: \n",
            "pciBusID: 0000:00:04.0 name: Tesla T4 computeCapability: 7.5\n",
            "coreClock: 1.59GHz coreCount: 40 deviceMemorySize: 14.73GiB deviceMemoryBandwidth: 298.08GiB/s\n",
            "2020-12-24 03:59:14.110537: I tensorflow/stream_executor/platform/default/dso_loader.cc:49] Successfully opened dynamic library libcudart.so.10.1\n",
            "2020-12-24 03:59:14.110574: I tensorflow/stream_executor/platform/default/dso_loader.cc:49] Successfully opened dynamic library libcublas.so.10\n",
            "2020-12-24 03:59:14.110594: I tensorflow/stream_executor/platform/default/dso_loader.cc:49] Successfully opened dynamic library libcublasLt.so.10\n",
            "2020-12-24 03:59:14.110614: I tensorflow/stream_executor/platform/default/dso_loader.cc:49] Successfully opened dynamic library libcufft.so.10\n",
            "2020-12-24 03:59:14.110632: I tensorflow/stream_executor/platform/default/dso_loader.cc:49] Successfully opened dynamic library libcurand.so.10\n",
            "2020-12-24 03:59:14.110650: I tensorflow/stream_executor/platform/default/dso_loader.cc:49] Successfully opened dynamic library libcusolver.so.10\n",
            "2020-12-24 03:59:14.110667: I tensorflow/stream_executor/platform/default/dso_loader.cc:49] Successfully opened dynamic library libcusparse.so.10\n",
            "2020-12-24 03:59:14.110685: I tensorflow/stream_executor/platform/default/dso_loader.cc:49] Successfully opened dynamic library libcudnn.so.7\n",
            "2020-12-24 03:59:14.110744: I tensorflow/stream_executor/cuda/cuda_gpu_executor.cc:941] successful NUMA node read from SysFS had negative value (-1), but there must be at least one NUMA node, so returning NUMA node zero\n",
            "2020-12-24 03:59:14.111294: I tensorflow/stream_executor/cuda/cuda_gpu_executor.cc:941] successful NUMA node read from SysFS had negative value (-1), but there must be at least one NUMA node, so returning NUMA node zero\n",
            "2020-12-24 03:59:14.111798: I tensorflow/core/common_runtime/gpu/gpu_device.cc:1862] Adding visible gpu devices: 0\n",
            "2020-12-24 03:59:14.112995: I tensorflow/stream_executor/platform/default/dso_loader.cc:49] Successfully opened dynamic library libcudart.so.10.1\n",
            "2020-12-24 03:59:18.150152: I tensorflow/core/common_runtime/gpu/gpu_device.cc:1261] Device interconnect StreamExecutor with strength 1 edge matrix:\n",
            "2020-12-24 03:59:18.150202: I tensorflow/core/common_runtime/gpu/gpu_device.cc:1267]      0 \n",
            "2020-12-24 03:59:18.150222: I tensorflow/core/common_runtime/gpu/gpu_device.cc:1280] 0:   N \n",
            "2020-12-24 03:59:18.156423: I tensorflow/stream_executor/cuda/cuda_gpu_executor.cc:941] successful NUMA node read from SysFS had negative value (-1), but there must be at least one NUMA node, so returning NUMA node zero\n",
            "2020-12-24 03:59:18.157107: I tensorflow/stream_executor/cuda/cuda_gpu_executor.cc:941] successful NUMA node read from SysFS had negative value (-1), but there must be at least one NUMA node, so returning NUMA node zero\n",
            "2020-12-24 03:59:18.157644: I tensorflow/stream_executor/cuda/cuda_gpu_executor.cc:941] successful NUMA node read from SysFS had negative value (-1), but there must be at least one NUMA node, so returning NUMA node zero\n",
            "2020-12-24 03:59:18.158151: W tensorflow/core/common_runtime/gpu/gpu_bfc_allocator.cc:39] Overriding allow_growth setting because the TF_FORCE_GPU_ALLOW_GROWTH environment variable is set. Original config value was 0.\n",
            "2020-12-24 03:59:18.158201: I tensorflow/core/common_runtime/gpu/gpu_device.cc:1406] Created TensorFlow device (/job:localhost/replica:0/task:0/device:GPU:0 with 13960 MB memory) -> physical GPU (device: 0, name: Tesla T4, pci bus id: 0000:00:04.0, compute capability: 7.5)\n",
            "2020-12-24 03:59:18.614410: I tensorflow/compiler/mlir/mlir_graph_optimization_pass.cc:116] None of the MLIR optimization passes are enabled (registered 2)\n",
            "2020-12-24 03:59:18.628247: I tensorflow/core/platform/profile_utils/cpu_utils.cc:112] CPU Frequency: 2199995000 Hz\n",
            "2020-12-24 03:59:18.800657: I tensorflow/stream_executor/platform/default/dso_loader.cc:49] Successfully opened dynamic library libcudnn.so.7\n",
            "2020-12-24 03:59:23.818016: I tensorflow/stream_executor/platform/default/dso_loader.cc:49] Successfully opened dynamic library libcublas.so.10\n",
            "Classification accuracy for  model_1 : 97.17675586732484 %\n",
            "Classification accuracy for  model_1 : 97.17675586732484 %\n",
            "Classification accuracy for  model_1 : 97.17675586732484 %\n",
            "Classification accuracy for  model_1 : 97.17675586732484 %\n",
            "Classification accuracy for  model_1 : 97.17675586732484 %\n",
            "Classification accuracy for  model_1 : 97.17675586732484 %\n",
            "Classification accuracy for  model_1 : 97.15943535117346 %\n",
            "Classification accuracy for  model_1 : 97.14211483502208 %\n",
            "Classification accuracy for  model_1 : 97.14211483502208 %\n",
            "Classification accuracy for  model_1 : 97.14211483502208 %\n",
            "Classification accuracy for  model_1 : 97.1247943188707 %\n",
            "Classification accuracy for  model_1 : 97.07283277041657 %\n",
            "Classification accuracy for  model_1 : 97.0381917381138 %\n",
            "Classification accuracy for  model_1 : 96.98623018965965 %\n",
            "Classification accuracy for  model_1 : 96.97756993158396 %\n",
            "Classification accuracy for  model_1 : 96.92560838312981 %\n",
            "Classification accuracy for  model_1 : 96.82168528622152 %\n",
            "Classification accuracy for  model_1 : 96.69178141508617 %\n",
            "Classification accuracy for  model_1 : 96.50125573742098 %\n",
            "Classification accuracy for  model_1 : 96.2847492855287 %\n",
            "Classification accuracy for  model_1 : 96.18082618862041 %\n",
            "Classification accuracy for  model_1 : 94.8125054126613 %\n",
            "Classification accuracy for  model_1 : 94.77786438035854 %\n",
            "Classification accuracy for  model_1 : 94.83848618688837 %\n",
            "Classification accuracy for  model_1 : 94.79518489650992 %\n",
            "Classification accuracy for  model_1 : 94.14566554083311 %\n",
            "Classification accuracy for  model_1 : 93.54810773361046 %\n",
            "Classification accuracy for  model_1 : 91.82471637654803 %\n",
            "Pruning number of neurons:  26\n",
            "bd_model layers:\n",
            "input\n",
            "conv_1\n",
            "pool_1\n",
            "conv_2\n",
            "pool_2\n",
            "conv_3\n",
            "pool_3\n",
            "conv_4\n",
            "flatten_1\n",
            "flatten_2\n",
            "fc_1\n",
            "fc_2\n",
            "add_1\n",
            "activation_1\n",
            "output\n",
            "defence_model layers with trainable state in first tuning:\n",
            "input False\n",
            "conv_1 False\n",
            "pool_1 False\n",
            "conv_2 False\n",
            "pool_2 False\n",
            "conv_3 False\n",
            "pool_3 False\n",
            "conv_4 False\n",
            "flatten_1 False\n",
            "flatten_2 False\n",
            "fc_1 False\n",
            "fc_2 False\n",
            "add_1 False\n",
            "activation_1 False\n",
            "output True\n",
            "Epoch 1/5\n",
            "361/361 [==============================] - 2s 4ms/step - loss: 0.7153 - accuracy: 0.8557\n",
            "Epoch 2/5\n",
            "361/361 [==============================] - 2s 4ms/step - loss: 0.1123 - accuracy: 0.9749\n",
            "Epoch 3/5\n",
            "361/361 [==============================] - 2s 4ms/step - loss: 0.1265 - accuracy: 0.9681\n",
            "Epoch 4/5\n",
            "361/361 [==============================] - 1s 4ms/step - loss: 0.1110 - accuracy: 0.9681\n",
            "Epoch 5/5\n",
            "361/361 [==============================] - 2s 4ms/step - loss: 0.0868 - accuracy: 0.9756\n",
            "defence_model layers with trainable state in second tuning:\n",
            "input False\n",
            "conv_1 False\n",
            "pool_1 False\n",
            "conv_2 False\n",
            "pool_2 False\n",
            "conv_3 False\n",
            "pool_3 True\n",
            "conv_4 True\n",
            "flatten_1 True\n",
            "flatten_2 True\n",
            "fc_1 True\n",
            "fc_2 True\n",
            "add_1 True\n",
            "activation_1 True\n",
            "output True\n",
            "Round 1\n",
            "Epoch 1/5\n",
            "361/361 [==============================] - 2s 3ms/step - loss: 0.0311 - accuracy: 0.9923\n",
            "Epoch 2/5\n",
            "361/361 [==============================] - 1s 3ms/step - loss: 0.0024 - accuracy: 0.9996\n",
            "Epoch 3/5\n",
            "361/361 [==============================] - 1s 3ms/step - loss: 0.0013 - accuracy: 0.9994\n",
            "Epoch 4/5\n",
            "361/361 [==============================] - 1s 4ms/step - loss: 9.8391e-04 - accuracy: 0.9998\n",
            "Epoch 5/5\n",
            "361/361 [==============================] - 1s 4ms/step - loss: 0.0016 - accuracy: 0.9996\n",
            "Classification accuracy for  model_1 : 99.97401922577292 %\n",
            "Classification accuracy for  model_1 : 97.1862821512081 %\n",
            "Classification accuracy for  model_1 : 97.17675586732484 %\n",
            "Classification accuracy for  model_1 : 91.3971161340608 %\n",
            "Classification accuracy for  model_1 : 93.99064692127826 %\n",
            "Classification accuracy for  model_1 : 99.97401922577292 %\n",
            "Classification accuracy for  model_1 : 2.3577552611067807 %\n"
          ],
          "name": "stdout"
        },
        {
          "output_type": "execute_result",
          "data": {
            "text/plain": [
              "2.3577552611067807"
            ]
          },
          "metadata": {
            "tags": []
          },
          "execution_count": 7
        }
      ]
    },
    {
      "cell_type": "code",
      "metadata": {
        "colab": {
          "base_uri": "https://localhost:8080/"
        },
        "id": "ycW6r3ABwGOj",
        "outputId": "6e7cb009-7044-4eab-a10d-9bc207de1b25"
      },
      "source": [
        "!python eval_defence.py img/img_7.png anonymous_1_bd_net"
      ],
      "execution_count": 9,
      "outputs": [
        {
          "output_type": "stream",
          "text": [
            "2020-12-24 04:03:16.111551: I tensorflow/stream_executor/platform/default/dso_loader.cc:49] Successfully opened dynamic library libcudart.so.10.1\n",
            "2020-12-24 04:03:18.183809: I tensorflow/compiler/jit/xla_cpu_device.cc:41] Not creating XLA devices, tf_xla_enable_xla_devices not set\n",
            "2020-12-24 04:03:18.190843: I tensorflow/stream_executor/platform/default/dso_loader.cc:49] Successfully opened dynamic library libcuda.so.1\n",
            "2020-12-24 04:03:18.195451: I tensorflow/stream_executor/cuda/cuda_gpu_executor.cc:941] successful NUMA node read from SysFS had negative value (-1), but there must be at least one NUMA node, so returning NUMA node zero\n",
            "2020-12-24 04:03:18.195996: I tensorflow/core/common_runtime/gpu/gpu_device.cc:1720] Found device 0 with properties: \n",
            "pciBusID: 0000:00:04.0 name: Tesla T4 computeCapability: 7.5\n",
            "coreClock: 1.59GHz coreCount: 40 deviceMemorySize: 14.73GiB deviceMemoryBandwidth: 298.08GiB/s\n",
            "2020-12-24 04:03:18.196030: I tensorflow/stream_executor/platform/default/dso_loader.cc:49] Successfully opened dynamic library libcudart.so.10.1\n",
            "2020-12-24 04:03:18.197914: I tensorflow/stream_executor/platform/default/dso_loader.cc:49] Successfully opened dynamic library libcublas.so.10\n",
            "2020-12-24 04:03:18.197976: I tensorflow/stream_executor/platform/default/dso_loader.cc:49] Successfully opened dynamic library libcublasLt.so.10\n",
            "2020-12-24 04:03:18.199681: I tensorflow/stream_executor/platform/default/dso_loader.cc:49] Successfully opened dynamic library libcufft.so.10\n",
            "2020-12-24 04:03:18.200183: I tensorflow/stream_executor/platform/default/dso_loader.cc:49] Successfully opened dynamic library libcurand.so.10\n",
            "2020-12-24 04:03:18.202225: I tensorflow/stream_executor/platform/default/dso_loader.cc:49] Successfully opened dynamic library libcusolver.so.10\n",
            "2020-12-24 04:03:18.203381: I tensorflow/stream_executor/platform/default/dso_loader.cc:49] Successfully opened dynamic library libcusparse.so.10\n",
            "2020-12-24 04:03:18.207092: I tensorflow/stream_executor/platform/default/dso_loader.cc:49] Successfully opened dynamic library libcudnn.so.7\n",
            "2020-12-24 04:03:18.207210: I tensorflow/stream_executor/cuda/cuda_gpu_executor.cc:941] successful NUMA node read from SysFS had negative value (-1), but there must be at least one NUMA node, so returning NUMA node zero\n",
            "2020-12-24 04:03:18.207747: I tensorflow/stream_executor/cuda/cuda_gpu_executor.cc:941] successful NUMA node read from SysFS had negative value (-1), but there must be at least one NUMA node, so returning NUMA node zero\n",
            "2020-12-24 04:03:18.208241: I tensorflow/core/common_runtime/gpu/gpu_device.cc:1862] Adding visible gpu devices: 0\n",
            "2020-12-24 04:03:18.208604: I tensorflow/compiler/jit/xla_gpu_device.cc:99] Not creating XLA devices, tf_xla_enable_xla_devices not set\n",
            "2020-12-24 04:03:18.208717: I tensorflow/stream_executor/cuda/cuda_gpu_executor.cc:941] successful NUMA node read from SysFS had negative value (-1), but there must be at least one NUMA node, so returning NUMA node zero\n",
            "2020-12-24 04:03:18.209235: I tensorflow/core/common_runtime/gpu/gpu_device.cc:1720] Found device 0 with properties: \n",
            "pciBusID: 0000:00:04.0 name: Tesla T4 computeCapability: 7.5\n",
            "coreClock: 1.59GHz coreCount: 40 deviceMemorySize: 14.73GiB deviceMemoryBandwidth: 298.08GiB/s\n",
            "2020-12-24 04:03:18.209265: I tensorflow/stream_executor/platform/default/dso_loader.cc:49] Successfully opened dynamic library libcudart.so.10.1\n",
            "2020-12-24 04:03:18.209294: I tensorflow/stream_executor/platform/default/dso_loader.cc:49] Successfully opened dynamic library libcublas.so.10\n",
            "2020-12-24 04:03:18.209313: I tensorflow/stream_executor/platform/default/dso_loader.cc:49] Successfully opened dynamic library libcublasLt.so.10\n",
            "2020-12-24 04:03:18.209329: I tensorflow/stream_executor/platform/default/dso_loader.cc:49] Successfully opened dynamic library libcufft.so.10\n",
            "2020-12-24 04:03:18.209348: I tensorflow/stream_executor/platform/default/dso_loader.cc:49] Successfully opened dynamic library libcurand.so.10\n",
            "2020-12-24 04:03:18.209365: I tensorflow/stream_executor/platform/default/dso_loader.cc:49] Successfully opened dynamic library libcusolver.so.10\n",
            "2020-12-24 04:03:18.209383: I tensorflow/stream_executor/platform/default/dso_loader.cc:49] Successfully opened dynamic library libcusparse.so.10\n",
            "2020-12-24 04:03:18.209401: I tensorflow/stream_executor/platform/default/dso_loader.cc:49] Successfully opened dynamic library libcudnn.so.7\n",
            "2020-12-24 04:03:18.209462: I tensorflow/stream_executor/cuda/cuda_gpu_executor.cc:941] successful NUMA node read from SysFS had negative value (-1), but there must be at least one NUMA node, so returning NUMA node zero\n",
            "2020-12-24 04:03:18.209990: I tensorflow/stream_executor/cuda/cuda_gpu_executor.cc:941] successful NUMA node read from SysFS had negative value (-1), but there must be at least one NUMA node, so returning NUMA node zero\n",
            "2020-12-24 04:03:18.210458: I tensorflow/core/common_runtime/gpu/gpu_device.cc:1862] Adding visible gpu devices: 0\n",
            "2020-12-24 04:03:18.210497: I tensorflow/stream_executor/platform/default/dso_loader.cc:49] Successfully opened dynamic library libcudart.so.10.1\n",
            "2020-12-24 04:03:18.926354: I tensorflow/core/common_runtime/gpu/gpu_device.cc:1261] Device interconnect StreamExecutor with strength 1 edge matrix:\n",
            "2020-12-24 04:03:18.926413: I tensorflow/core/common_runtime/gpu/gpu_device.cc:1267]      0 \n",
            "2020-12-24 04:03:18.926443: I tensorflow/core/common_runtime/gpu/gpu_device.cc:1280] 0:   N \n",
            "2020-12-24 04:03:18.926639: I tensorflow/stream_executor/cuda/cuda_gpu_executor.cc:941] successful NUMA node read from SysFS had negative value (-1), but there must be at least one NUMA node, so returning NUMA node zero\n",
            "2020-12-24 04:03:18.927258: I tensorflow/stream_executor/cuda/cuda_gpu_executor.cc:941] successful NUMA node read from SysFS had negative value (-1), but there must be at least one NUMA node, so returning NUMA node zero\n",
            "2020-12-24 04:03:18.927795: I tensorflow/stream_executor/cuda/cuda_gpu_executor.cc:941] successful NUMA node read from SysFS had negative value (-1), but there must be at least one NUMA node, so returning NUMA node zero\n",
            "2020-12-24 04:03:18.928265: W tensorflow/core/common_runtime/gpu/gpu_bfc_allocator.cc:39] Overriding allow_growth setting because the TF_FORCE_GPU_ALLOW_GROWTH environment variable is set. Original config value was 0.\n",
            "2020-12-24 04:03:18.928311: I tensorflow/core/common_runtime/gpu/gpu_device.cc:1406] Created TensorFlow device (/job:localhost/replica:0/task:0/device:GPU:0 with 13151 MB memory) -> physical GPU (device: 0, name: Tesla T4, pci bus id: 0000:00:04.0, compute capability: 7.5)\n",
            "2020-12-24 04:03:19.234595: I tensorflow/compiler/mlir/mlir_graph_optimization_pass.cc:116] None of the MLIR optimization passes are enabled (registered 2)\n",
            "2020-12-24 04:03:19.235003: I tensorflow/core/platform/profile_utils/cpu_utils.cc:112] CPU Frequency: 2199995000 Hz\n",
            "2020-12-24 04:03:19.398915: I tensorflow/stream_executor/platform/default/dso_loader.cc:49] Successfully opened dynamic library libcublas.so.10\n",
            "2020-12-24 04:03:19.736783: I tensorflow/stream_executor/platform/default/dso_loader.cc:49] Successfully opened dynamic library libcudnn.so.7\n",
            "The class is: 63\n"
          ],
          "name": "stdout"
        }
      ]
    },
    {
      "cell_type": "code",
      "metadata": {
        "colab": {
          "base_uri": "https://localhost:8080/"
        },
        "id": "alHwwMQUxg8S",
        "outputId": "4e5fa1bb-cd06-4b73-8585-8044a8ddd832"
      },
      "source": [
        "y_valid[6]"
      ],
      "execution_count": 10,
      "outputs": [
        {
          "output_type": "execute_result",
          "data": {
            "text/plain": [
              "62.0"
            ]
          },
          "metadata": {
            "tags": []
          },
          "execution_count": 10
        }
      ]
    }
  ]
}