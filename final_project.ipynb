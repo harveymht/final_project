{
  "nbformat": 4,
  "nbformat_minor": 0,
  "metadata": {
    "colab": {
      "name": "final_project.ipynb",
      "provenance": [],
      "collapsed_sections": [],
      "mount_file_id": "1QHdmDRFytW2hG0DamvLlFT-Fl1mTS4Fe",
      "authorship_tag": "ABX9TyMGFVnF1V9GPNE4Tu17FrxO",
      "include_colab_link": true
    },
    "kernelspec": {
      "name": "python3",
      "display_name": "Python 3"
    },
    "accelerator": "GPU"
  },
  "cells": [
    {
      "cell_type": "markdown",
      "metadata": {
        "id": "view-in-github",
        "colab_type": "text"
      },
      "source": [
        "<a href=\"https://colab.research.google.com/github/harveymht/final_project/blob/main/final_project.ipynb\" target=\"_parent\"><img src=\"https://colab.research.google.com/assets/colab-badge.svg\" alt=\"Open In Colab\"/></a>"
      ]
    },
    {
      "cell_type": "code",
      "metadata": {
        "colab": {
          "base_uri": "https://localhost:8080/"
        },
        "id": "MppJh4HVDke_",
        "outputId": "a8cacc5d-8718-4418-cdd0-f2d9ac714c4a"
      },
      "source": [
        "from google.colab import drive\n",
        "drive.mount('/content/drive')"
      ],
      "execution_count": 1,
      "outputs": [
        {
          "output_type": "stream",
          "text": [
            "Drive already mounted at /content/drive; to attempt to forcibly remount, call drive.mount(\"/content/drive\", force_remount=True).\n"
          ],
          "name": "stdout"
        }
      ]
    },
    {
      "cell_type": "code",
      "metadata": {
        "id": "hC5RsvytE95d"
      },
      "source": [
        "import os\n",
        "os.chdir(\"/content/drive/MyDrive\")"
      ],
      "execution_count": 2,
      "outputs": []
    },
    {
      "cell_type": "code",
      "metadata": {
        "colab": {
          "base_uri": "https://localhost:8080/"
        },
        "id": "bUibCRAdH_m1",
        "outputId": "63327a11-0ae4-41ba-e439-65ac488ad2f1"
      },
      "source": [
        "# !git clone https://github.com/csaw-hackml/CSAW-HackML-2020.git"
      ],
      "execution_count": 3,
      "outputs": [
        {
          "output_type": "stream",
          "text": [
            "fatal: destination path 'CSAW-HackML-2020' already exists and is not an empty directory.\n"
          ],
          "name": "stdout"
        }
      ]
    },
    {
      "cell_type": "code",
      "metadata": {
        "colab": {
          "base_uri": "https://localhost:8080/"
        },
        "id": "Hb2WACI7ITe5",
        "outputId": "ed705d95-e4fd-4e85-f783-0fb398c609c0"
      },
      "source": [
        "cd CSAW-HackML-2020/"
      ],
      "execution_count": 3,
      "outputs": [
        {
          "output_type": "stream",
          "text": [
            "/content/drive/MyDrive/CSAW-HackML-2020\n"
          ],
          "name": "stdout"
        }
      ]
    },
    {
      "cell_type": "code",
      "metadata": {
        "id": "TCgUnQJ-ZnW7"
      },
      "source": [
        "import keras\n",
        "import keras.backend as K\n",
        "import sys\n",
        "import h5py\n",
        "import numpy as np\n",
        "\n",
        "def data_loader(filepath):\n",
        "    data = h5py.File(filepath, 'r')\n",
        "    x_data = np.array(data['data'])\n",
        "    y_data = np.array(data['label'])\n",
        "    x_data = x_data.transpose((0,2,3,1))\n",
        "\n",
        "    return x_data/255, y_data\n",
        "\n",
        "x_test, y_test = data_loader(\"data/clean_test_data.h5\")\n",
        "x_valid, y_valid = data_loader(\"data/clean_validation_data.h5\")\n",
        "x_poison, y_poison = data_loader(\"data/sunglasses_poisoned_data.h5\")"
      ],
      "execution_count": 5,
      "outputs": []
    },
    {
      "cell_type": "code",
      "metadata": {
        "colab": {
          "base_uri": "https://localhost:8080/"
        },
        "id": "b5-FQwYqZ6L4",
        "outputId": "db0d8ba5-0af5-45a2-8265-7ed136bd908c"
      },
      "source": [
        "bd_model_sunglass = keras.models.load_model(\"models/sunglasses_bd_net.h5\")\n",
        "bd_model_sunglass.load_weights(\"models/sunglasses_bd_weights.h5\")\n",
        "bd_model_sunglass.get_layer(\"conv_3\").weights[1]"
      ],
      "execution_count": 5,
      "outputs": [
        {
          "output_type": "execute_result",
          "data": {
            "text/plain": [
              "<tf.Variable 'conv_3/bias:0' shape=(60,) dtype=float32, numpy=\n",
              "array([ 3.09335138e-03,  5.39011993e-02,  3.72845195e-02,  1.41912520e-01,\n",
              "       -9.92360413e-02, -1.94254383e-01,  1.09296665e-01, -1.09382764e-01,\n",
              "       -2.56997198e-02, -1.79084167e-01, -7.41655752e-03,  1.26560986e-01,\n",
              "       -1.99254020e-04, -1.96490809e-01,  5.37410453e-02,  4.80809733e-02,\n",
              "       -3.56878527e-02, -5.57076596e-02,  3.08090430e-02,  4.57454324e-02,\n",
              "        2.68692616e-02, -1.58138782e-01, -1.33660657e-03,  1.51721746e-01,\n",
              "        9.15845260e-02,  1.23520844e-01, -1.95504874e-01, -2.41284966e-02,\n",
              "        2.96532642e-02,  2.60704249e-01, -9.07572582e-02,  7.88029376e-03,\n",
              "       -7.23746838e-03,  4.89684045e-02, -1.03932172e-02,  1.98516384e-01,\n",
              "        3.65888700e-02,  5.18653095e-02, -4.50169779e-02, -1.20541394e-01,\n",
              "       -3.31499204e-02,  8.04171711e-02,  5.88485040e-02,  8.68695974e-02,\n",
              "       -1.85889974e-02,  1.18796285e-02, -1.23596318e-01,  8.48184600e-02,\n",
              "        1.31482482e-01, -4.20225039e-03,  1.79432973e-01, -2.23461777e-01,\n",
              "        2.38902420e-02, -7.86236897e-02, -1.50954306e-01,  6.80206120e-02,\n",
              "       -5.26145846e-02,  1.14182266e-03,  9.34866071e-03, -9.95750949e-02],\n",
              "      dtype=float32)>"
            ]
          },
          "metadata": {
            "tags": []
          },
          "execution_count": 5
        }
      ]
    },
    {
      "cell_type": "code",
      "metadata": {
        "id": "zO89WyAlDzwP"
      },
      "source": [
        "bd_model = keras.models.load_model(\"models/sunglasses_bd_net.h5\")"
      ],
      "execution_count": 6,
      "outputs": []
    },
    {
      "cell_type": "code",
      "metadata": {
        "id": "uEFKT4lAhOCB"
      },
      "source": [
        "def valid_accu(model, x, y):\n",
        "    clean_label = np.argmax(model.predict(x), axis=1)\n",
        "    clean_accu = np.mean(np.equal(clean_label, y))*100\n",
        "    print('Classification accuracy for ', model.name, ':', clean_accu, '%')\n",
        "    return clean_accu"
      ],
      "execution_count": 8,
      "outputs": []
    },
    {
      "cell_type": "code",
      "metadata": {
        "colab": {
          "base_uri": "https://localhost:8080/"
        },
        "id": "yiaosRc3EB9g",
        "outputId": "a7fc55d7-c033-479f-fe37-cf1adaf99187"
      },
      "source": [
        "neuron_activate = keras.Model(inputs=bd_model.input, outputs=bd_model.get_layer(\"conv_3\").output).predict(x_valid)\n",
        "neuron_activate.shape"
      ],
      "execution_count": 8,
      "outputs": [
        {
          "output_type": "execute_result",
          "data": {
            "text/plain": [
              "(11547, 10, 8, 60)"
            ]
          },
          "metadata": {
            "tags": []
          },
          "execution_count": 8
        }
      ]
    },
    {
      "cell_type": "code",
      "metadata": {
        "colab": {
          "base_uri": "https://localhost:8080/"
        },
        "id": "jLdAPzIEPED2",
        "outputId": "f1bb8e83-6493-4621-bb7c-35370f85bd34"
      },
      "source": [
        "accu_ori = valid_accu(bd_model, x_valid, y_valid)\n",
        "accu_threshold = accu_ori * 0.95\n",
        "conv3_num = neuron_activate.shape[3]\n",
        "prune_sort = np.argsort(np.mean(neuron_activate, axis=(0,1,2)))\n",
        "layer_prune = bd_model.get_layer(\"conv_3\")\n",
        "prune_count = 0\n",
        "for i in range(conv3_num):\n",
        "    channel = prune_sort[i]\n",
        "    ori_w = np.array(layer_prune.get_weights()[0])\n",
        "    ori_b = np.array(layer_prune.get_weights()[1])\n",
        "    weights_w = np.array(ori_w)\n",
        "    weights_b = np.array(ori_b)\n",
        "    weights_w[:,:,:,channel] = 0.\n",
        "    weights_b[channel] = 0.\n",
        "    layer_prune.set_weights([weights_w, weights_b])\n",
        "    accu = valid_accu(bd_model, x_valid, y_valid)\n",
        "    if accu < accu_threshold:\n",
        "        layer_prune.set_weights([ori_w, ori_b])\n",
        "        break\n",
        "    prune_count += 1\n",
        "\n",
        "bd_model.save_weights(\"models/bd_prune_weights.h5\")\n",
        "print(\"Pruning number of neurons: \", prune_count)"
      ],
      "execution_count": 9,
      "outputs": [
        {
          "output_type": "stream",
          "text": [
            "Classification accuracy for  model_1 : 97.88689702953148 %\n",
            "Classification accuracy for  model_1 : 97.88689702953148 %\n",
            "Classification accuracy for  model_1 : 97.88689702953148 %\n",
            "Classification accuracy for  model_1 : 97.88689702953148 %\n",
            "Classification accuracy for  model_1 : 97.90421754568285 %\n",
            "Classification accuracy for  model_1 : 97.88689702953148 %\n",
            "Classification accuracy for  model_1 : 97.87823677145579 %\n",
            "Classification accuracy for  model_1 : 97.88689702953148 %\n",
            "Classification accuracy for  model_1 : 97.8695765133801 %\n",
            "Classification accuracy for  model_1 : 97.81761496492595 %\n",
            "Classification accuracy for  model_1 : 97.7829739326232 %\n",
            "Classification accuracy for  model_1 : 97.75699315839613 %\n",
            "Classification accuracy for  model_1 : 97.60976877110939 %\n",
            "Classification accuracy for  model_1 : 97.53182644842816 %\n",
            "Classification accuracy for  model_1 : 97.47120464189832 %\n",
            "Classification accuracy for  model_1 : 97.2979994803845 %\n",
            "Classification accuracy for  model_1 : 97.17675586732484 %\n",
            "Classification accuracy for  model_1 : 97.02087122196241 %\n",
            "Classification accuracy for  model_1 : 96.96024941543257 %\n",
            "Classification accuracy for  model_1 : 96.77838399584307 %\n",
            "Classification accuracy for  model_1 : 96.82168528622152 %\n",
            "Classification accuracy for  model_1 : 96.64848012470772 %\n",
            "Classification accuracy for  model_1 : 95.74781328483589 %\n",
            "Classification accuracy for  model_1 : 95.13293496146186 %\n",
            "Classification accuracy for  model_1 : 94.84714644496405 %\n",
            "Classification accuracy for  model_1 : 94.90776825149389 %\n",
            "Classification accuracy for  model_1 : 94.09370399237898 %\n",
            "Classification accuracy for  model_1 : 93.86853728241101 %\n",
            "Classification accuracy for  model_1 : 93.66935134667013 %\n",
            "Classification accuracy for  model_1 : 92.5868190872088 %\n",
            "Pruning number of neurons:  28\n"
          ],
          "name": "stdout"
        }
      ]
    },
    {
      "cell_type": "code",
      "metadata": {
        "colab": {
          "base_uri": "https://localhost:8080/"
        },
        "id": "1EHjjrwRm3Vl",
        "outputId": "74dad282-1041-42b1-f957-49005239a760"
      },
      "source": [
        "for i in bd_model.layers:\n",
        "  print(i.name)\n",
        "\n",
        "bd_model.get_layer(\"output\").output"
      ],
      "execution_count": 10,
      "outputs": [
        {
          "output_type": "stream",
          "text": [
            "input\n",
            "conv_1\n",
            "pool_1\n",
            "conv_2\n",
            "pool_2\n",
            "conv_3\n",
            "pool_3\n",
            "conv_4\n",
            "flatten_1\n",
            "flatten_2\n",
            "fc_1\n",
            "fc_2\n",
            "add_1\n",
            "activation_1\n",
            "output\n"
          ],
          "name": "stdout"
        },
        {
          "output_type": "execute_result",
          "data": {
            "text/plain": [
              "<KerasTensor: shape=(None, 1283) dtype=float32 (created by layer 'output')>"
            ]
          },
          "metadata": {
            "tags": []
          },
          "execution_count": 10
        }
      ]
    },
    {
      "cell_type": "code",
      "metadata": {
        "colab": {
          "base_uri": "https://localhost:8080/"
        },
        "id": "vinToTT4U5fD",
        "outputId": "3c7ef3b4-e98a-44c5-cb9a-8d0275b2bb23"
      },
      "source": [
        "bd_model.load_weights(\"models/bd_prune_weights.h5\")\n",
        "N = bd_model.output.shape[1]\n",
        "\n",
        "tune_base_model = keras.Model(inputs=bd_model.input, outputs=bd_model.get_layer(\"output\").input)\n",
        "x = tune_base_model.output\n",
        "x = keras.layers.Dense(N, activation='softmax')(x)\n",
        "#defence_model = keras.Model(inputs=tune_base_model.input, outputs=x)\n",
        "defence_model = bd_model\n",
        "defence_model.compile(optimizer=\"Adam\", loss='categorical_crossentropy', metrics=[\"accuracy\"])\n",
        "\n",
        "for layer in tune_base_model.layers:\n",
        "    layer.trainable = False\n",
        "for layer in defence_model.layers:\n",
        "    print(layer.name, layer.trainable)"
      ],
      "execution_count": 11,
      "outputs": [
        {
          "output_type": "stream",
          "text": [
            "input False\n",
            "conv_1 False\n",
            "pool_1 False\n",
            "conv_2 False\n",
            "pool_2 False\n",
            "conv_3 False\n",
            "pool_3 False\n",
            "conv_4 False\n",
            "flatten_1 False\n",
            "flatten_2 False\n",
            "fc_1 False\n",
            "fc_2 False\n",
            "add_1 False\n",
            "activation_1 False\n",
            "output True\n"
          ],
          "name": "stdout"
        }
      ]
    },
    {
      "cell_type": "code",
      "metadata": {
        "id": "JrFcCurEtLoN"
      },
      "source": [
        "y_valid_tune = np.zeros((len(y_valid), N))\n",
        "for i,y in enumerate(y_valid):\n",
        "    y = int(y)\n",
        "    y_valid_tune[i][y] = 1"
      ],
      "execution_count": 12,
      "outputs": []
    },
    {
      "cell_type": "code",
      "metadata": {
        "colab": {
          "base_uri": "https://localhost:8080/"
        },
        "id": "HaALN3fNtIEm",
        "outputId": "fde23823-9779-48e0-cff8-3601f4858f2d"
      },
      "source": [
        "defence_model.fit(x_valid, y_valid_tune, epochs=5)"
      ],
      "execution_count": 13,
      "outputs": [
        {
          "output_type": "stream",
          "text": [
            "Epoch 1/5\n",
            "361/361 [==============================] - 2s 5ms/step - loss: 1.3734 - accuracy: 0.7488\n",
            "Epoch 2/5\n",
            "361/361 [==============================] - 2s 4ms/step - loss: 0.2208 - accuracy: 0.9509\n",
            "Epoch 3/5\n",
            "361/361 [==============================] - 2s 4ms/step - loss: 0.2069 - accuracy: 0.9439\n",
            "Epoch 4/5\n",
            "361/361 [==============================] - 2s 4ms/step - loss: 0.1577 - accuracy: 0.9579\n",
            "Epoch 5/5\n",
            "361/361 [==============================] - 2s 4ms/step - loss: 0.1377 - accuracy: 0.9613\n"
          ],
          "name": "stdout"
        },
        {
          "output_type": "execute_result",
          "data": {
            "text/plain": [
              "<tensorflow.python.keras.callbacks.History at 0x7f862e392ac8>"
            ]
          },
          "metadata": {
            "tags": []
          },
          "execution_count": 13
        }
      ]
    },
    {
      "cell_type": "code",
      "metadata": {
        "colab": {
          "base_uri": "https://localhost:8080/"
        },
        "id": "sWtAAJ3z1LPk",
        "outputId": "e25f4a15-82f6-49d8-d727-743bbd277d5a"
      },
      "source": [
        "for layer in reversed(tune_base_model.layers):\n",
        "    if layer.name == 'conv_3':\n",
        "       break\n",
        "    layer.trainable = True\n",
        "\n",
        "for layer in defence_model.layers:\n",
        "    print(layer.name, layer.trainable)"
      ],
      "execution_count": 14,
      "outputs": [
        {
          "output_type": "stream",
          "text": [
            "input False\n",
            "conv_1 False\n",
            "pool_1 False\n",
            "conv_2 False\n",
            "pool_2 False\n",
            "conv_3 False\n",
            "pool_3 True\n",
            "conv_4 True\n",
            "flatten_1 True\n",
            "flatten_2 True\n",
            "fc_1 True\n",
            "fc_2 True\n",
            "add_1 True\n",
            "activation_1 True\n",
            "output True\n"
          ],
          "name": "stdout"
        }
      ]
    },
    {
      "cell_type": "code",
      "metadata": {
        "colab": {
          "base_uri": "https://localhost:8080/"
        },
        "id": "aaOlmgrH8h94",
        "outputId": "0ef2b641-0697-40ea-b759-b800cb190ec4"
      },
      "source": [
        "valid_accu(bd_model_sunglass, x_test, y_test)\n",
        "valid_accu(bd_model_sunglass, x_valid, y_valid)\n",
        "valid_accu(bd_model_sunglass, x_poison, y_poison)"
      ],
      "execution_count": 15,
      "outputs": [
        {
          "output_type": "stream",
          "text": [
            "Classification accuracy for  model_1 : 97.77864380358535 %\n",
            "Classification accuracy for  model_1 : 97.88689702953148 %\n",
            "Classification accuracy for  model_1 : 99.99220576773187 %\n"
          ],
          "name": "stdout"
        },
        {
          "output_type": "execute_result",
          "data": {
            "text/plain": [
              "99.99220576773187"
            ]
          },
          "metadata": {
            "tags": []
          },
          "execution_count": 15
        }
      ]
    },
    {
      "cell_type": "code",
      "metadata": {
        "colab": {
          "base_uri": "https://localhost:8080/"
        },
        "id": "Y1KI6Wfg2NO4",
        "outputId": "05cc558e-d2b9-4308-9bbc-9465a0eed743"
      },
      "source": [
        "defence_model.compile(optimizer=keras.optimizers.Adam(1e-4), \n",
        "                   loss='categorical_crossentropy', \n",
        "                   metrics=[\"accuracy\"])\n",
        "\n",
        "for i in range(6):\n",
        "    print(\"Round\", i+1)\n",
        "    defence_model.fit(x_valid, y_valid_tune, epochs=5)\n",
        "    if valid_accu(defence_model, x_valid, y_valid) >= accu_ori:\n",
        "        break\n"
      ],
      "execution_count": 16,
      "outputs": [
        {
          "output_type": "stream",
          "text": [
            "Round 1\n",
            "Epoch 1/5\n",
            "361/361 [==============================] - 2s 4ms/step - loss: 0.0413 - accuracy: 0.9896\n",
            "Epoch 2/5\n",
            "361/361 [==============================] - 1s 4ms/step - loss: 0.0050 - accuracy: 0.9990\n",
            "Epoch 3/5\n",
            "361/361 [==============================] - 1s 4ms/step - loss: 0.0039 - accuracy: 0.9989\n",
            "Epoch 4/5\n",
            "361/361 [==============================] - 1s 4ms/step - loss: 0.0016 - accuracy: 0.9996\n",
            "Epoch 5/5\n",
            "361/361 [==============================] - 1s 4ms/step - loss: 0.0011 - accuracy: 0.9998\n",
            "Classification accuracy for  model_1 : 99.93071793539447 %\n"
          ],
          "name": "stdout"
        }
      ]
    },
    {
      "cell_type": "code",
      "metadata": {
        "colab": {
          "base_uri": "https://localhost:8080/"
        },
        "id": "Hd9htlL030dY",
        "outputId": "1f00869c-8ac7-4ae0-9db6-b085536237c9"
      },
      "source": [
        "valid_accu(defence_model, x_test, y_test)\n",
        "valid_accu(defence_model, x_valid, y_valid)\n",
        "valid_accu(defence_model, x_poison, y_poison)"
      ],
      "execution_count": 17,
      "outputs": [
        {
          "output_type": "stream",
          "text": [
            "Classification accuracy for  model_1 : 92.10444271239282 %\n",
            "Classification accuracy for  model_1 : 99.93071793539447 %\n",
            "Classification accuracy for  model_1 : 3.094310210444271 %\n"
          ],
          "name": "stdout"
        },
        {
          "output_type": "execute_result",
          "data": {
            "text/plain": [
              "3.094310210444271"
            ]
          },
          "metadata": {
            "tags": []
          },
          "execution_count": 17
        }
      ]
    },
    {
      "cell_type": "code",
      "metadata": {
        "id": "KScjs1xXJThM"
      },
      "source": [
        "def predict(data):\n",
        "    label_defence = np.argmax(defence_model.predict(data), axis=1) + 1\n",
        "    label_attack = np.argmax(bd_model_sunglass.predict(data), axis=1) + 1\n",
        "    label_defence[label_defence != label_attack] = N + 1\n",
        "    return label_defence\n"
      ],
      "execution_count": 19,
      "outputs": []
    },
    {
      "cell_type": "code",
      "metadata": {
        "colab": {
          "base_uri": "https://localhost:8080/"
        },
        "id": "52K9vfukK64Z",
        "outputId": "9a832006-39dd-4072-822e-3fd76e2fbcd9"
      },
      "source": [
        "y_pre = predict(x_poison)\n",
        "print(np.sort(y_pre))\n",
        "# detection successful rate\n",
        "np.mean(np.equal(y_pre, y_poison+N+1))*100"
      ],
      "execution_count": 20,
      "outputs": [
        {
          "output_type": "stream",
          "text": [
            "[   1    1    1 ... 1284 1284 1284]\n"
          ],
          "name": "stdout"
        },
        {
          "output_type": "execute_result",
          "data": {
            "text/plain": [
              "96.89789555728761"
            ]
          },
          "metadata": {
            "tags": []
          },
          "execution_count": 20
        }
      ]
    },
    {
      "cell_type": "code",
      "metadata": {
        "id": "LSurRgzwK2CJ"
      },
      "source": [
        "!python repair.py models/anonymous_1_bd_net.h5 data/clean_validation_data.h5\n",
        "\n",
        "x_bd, y_bd = data_loader(\"data/anonymous_1_poisoned_data.h5\")\n",
        "model_bd = keras.models.load_model(\"models/anonymous_1_bd_net.h5\")\n",
        "model_defence = keras.models.load_model(\"models/anonymous_1_bd_net_defence.h5\")\n",
        "\n",
        "valid_accu(model_bd, x_test, y_test)\n",
        "valid_accu(model_bd, x_valid, y_valid)\n",
        "valid_accu(model_bd, x_bd, y_bd)\n",
        "\n",
        "valid_accu(model_defence, x_test, y_test)\n",
        "valid_accu(model_defence, x_valid, y_valid)\n",
        "valid_accu(model_defence, x_bd, y_bd)"
      ],
      "execution_count": null,
      "outputs": []
    }
  ]
}